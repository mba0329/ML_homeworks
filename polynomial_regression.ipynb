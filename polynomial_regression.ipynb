{
 "cells": [
  {
   "cell_type": "markdown",
   "id": "e2f0549e",
   "metadata": {},
   "source": [
    "Importing necessary libraries:\n",
    "- numpy: Used for numerical operations.\n",
    "- numpy.linalg.norm: Computes the norm (length) of vectors.\n",
    "- numpy.linalg.solve: Solves linear systems.\n",
    "- matplotlib.pyplot: For plotting.\n",
    "- numpy.random.rand, randn: For generating random numbers."
   ]
  },
  {
   "cell_type": "code",
   "execution_count": 42,
   "id": "da5008b6",
   "metadata": {},
   "outputs": [],
   "source": [
    "\"\"\" polynomial_regression.py \"\"\"\n",
    "import numpy as np\n",
    "from numpy.linalg import norm , solve\n",
    "import matplotlib.pyplot as plt\n",
    "from numpy.random import rand , randn"
   ]
  },
  {
   "cell_type": "markdown",
   "id": "62615ecd",
   "metadata": {},
   "source": [
    "Data Generation\n",
    "\n",
    "Purpose: Generates synthetic data for polynomial regression.\n",
    "- p: Degree of the polynomial.\n",
    "- beta: True coefficients (should be a column vector of shape (p+1, 1)).\n",
    "- sig: Standard deviation of the noise.\n",
    "- n: Number of data points.\n",
    "\n",
    "How it works:\n",
    "- u: Random input features (uniformly in [0,1], shape (n, 1)).\n",
    "- u ** np.arange(0, p+1): For each feature u, creates a column for each power from 0 to p (i.e., [1, u, u^2, ..., u^p]).\n",
    "- @ beta: Multiplies by true coefficients to get noiseless target values.\n",
    "- '+ sig * np.random.randn(n, 1): Adds Gaussian noise."
   ]
  },
  {
   "cell_type": "code",
   "execution_count": 43,
   "id": "d92e5368",
   "metadata": {},
   "outputs": [],
   "source": [
    "def generate_data(p, beta , sig, n):\n",
    "   u = np.random.rand(n, 1)\n",
    "   y = (u ** np.arange(0, p+1)) @ beta + sig * np.random.randn(n, 1)\n",
    "   return u, y"
   ]
  },
  {
   "cell_type": "markdown",
   "id": "019f72bb",
   "metadata": {},
   "source": [
    "- Sets true coefficients, number of samples, and noise.\n",
    "- Generates synthetic data."
   ]
  },
  {
   "cell_type": "code",
   "execution_count": 44,
   "id": "55d13481",
   "metadata": {},
   "outputs": [],
   "source": [
    "beta = np.array([[10, -140, 400, -250]]).T\n",
    "n = 100\n",
    "sig = 5\n",
    "u, y = generate_data(3, beta , sig, n)"
   ]
  },
  {
   "cell_type": "markdown",
   "id": "9131d127",
   "metadata": {},
   "source": [
    "Model Matrix Construction\n",
    "\n",
    "Purpose: Constructs the design matrix for polynomial regression.\n",
    "- u: Input data (shape (n, 1)).\n",
    "- n: (should be passed in or global, but here assumed global).\n",
    "- X: Design matrix, starting with a column of all ones (intercept).\n",
    "- For each degree p_current from 1 to p, appends a column of u**p_current.\n",
    "- Result: X has columns [1, u, u^2, ..., u^p]."
   ]
  },
  {
   "cell_type": "code",
   "execution_count": 45,
   "id": "dc25e264",
   "metadata": {},
   "outputs": [],
   "source": [
    "def model_matrix(p, u):\n",
    "   X = np.ones((n, 1))\n",
    "   p_range = np.arange(0, p + 1)    \n",
    "   for p_current in p_range:\n",
    "      if p_current > 0:\n",
    "         X = np.hstack((X, u**(p_current))) \n",
    "   return X"
   ]
  },
  {
   "cell_type": "markdown",
   "id": "d11a06ef",
   "metadata": {},
   "source": [
    "Model Training (Fitting)\n",
    "\n",
    "Purpose: Solves the normal equations to get the least squares estimate of the coefficients.\n",
    "- X.T @ X: Gram matrix.\n",
    "- X.T @ y: Projection of targets into feature space.\n",
    "- solve(...): Solves for betahat in (X^T X) betahat = X^T y."
   ]
  },
  {
   "cell_type": "code",
   "execution_count": 46,
   "id": "b1e8e3cd",
   "metadata": {},
   "outputs": [],
   "source": [
    "def train(X, y):\n",
    "    betahat = solve(X.T @ X, X.T @ y)\n",
    "    return betahat"
   ]
  },
  {
   "cell_type": "markdown",
   "id": "97b2e0e6",
   "metadata": {},
   "source": [
    "- Fits polynomials of degree 1, 3, and 15 to the data."
   ]
  },
  {
   "cell_type": "code",
   "execution_count": 47,
   "id": "aa39df70",
   "metadata": {},
   "outputs": [],
   "source": [
    "X, betahat = {},{}\n",
    "ps = [1, 3, 15]\n",
    "for p in ps:\n",
    "    X[p] = model_matrix(p, u) \n",
    "    betahat[p] = train(X[p], y)"
   ]
  },
  {
   "cell_type": "markdown",
   "id": "c5c00aad",
   "metadata": {},
   "source": [
    "Loss Calculation\n",
    "\n",
    "Purpose: Computes the mean squared error (MSE) of predictions.\n",
    "- y_hat: Predictions.\n",
    "- norm(y - y_hat)**2: Sum of squared errors.\n",
    "- Divided by n for mean."
   ]
  },
  {
   "cell_type": "code",
   "execution_count": 48,
   "id": "92669652",
   "metadata": {},
   "outputs": [],
   "source": [
    "def test_coefficients(n, betahat, X, y):\n",
    "    y_hat = X @ betahat\n",
    "    loss = (norm(y - y_hat)**2/n)\n",
    "    return loss"
   ]
  },
  {
   "cell_type": "markdown",
   "id": "21120ca7",
   "metadata": {},
   "source": [
    "- Evaluates training and test loss for each degree.\n"
   ]
  },
  {
   "cell_type": "code",
   "execution_count": 49,
   "id": "f139cc15",
   "metadata": {},
   "outputs": [],
   "source": [
    "u_test, y_test = generate_data(3, beta, sig, n)\n",
    "X_test = {}\n",
    "training_loss = {}\n",
    "test_loss = {}\n",
    "for p in ps:\n",
    "     X_test[p] = model_matrix(p, u_test)\n",
    "     training_loss[p] = test_coefficients(n, betahat[p], X[p], y)\n",
    "     test_loss[p] = test_coefficients(n, betahat[p], X_test[p], y_test)"
   ]
  },
  {
   "cell_type": "markdown",
   "id": "13435f9d",
   "metadata": {},
   "source": [
    "- Plots the true function, the data, and the fitted polynomials."
   ]
  },
  {
   "cell_type": "code",
   "execution_count": 50,
   "id": "af89e973",
   "metadata": {},
   "outputs": [
    {
     "data": {
      "image/png": "[encoded data removed]",
      "text/plain": [
       "<Figure size 640x480 with 1 Axes>"
      ]
     },
     "metadata": {},
     "output_type": "display_data"
    }
   ],
   "source": [
    "# Plot the points and true line and store in the list \"plots\"\n",
    "xx = np.arange(np.min(u), np.max(u)+5e-3, 5e-3)\n",
    "yy = np.polyval(np.flip(beta), xx)\n",
    "plots = [plt.plot(u, y, 'k.', markersize=8)[0], plt.plot(xx, yy, 'k--',linewidth=3)[0]]\n",
    "# add the three curves\n",
    "for i in ps:\n",
    "    yy = np.polyval(np.flip(betahat[i]), xx)\n",
    "    plots.append(plt.plot(xx, yy)[0])\n",
    "plt.xlabel(r'$u$')\n",
    "plt.ylabel(r'$y$')\n",
    "plt.show()"
   ]
  }
 ],
 "metadata": {
  "kernelspec": {
   "display_name": "Python 3",
   "language": "python",
   "name": "python3"
  },
  "language_info": {
   "codemirror_mode": {
    "name": "ipython",
    "version": 3
   },
   "file_extension": ".py",
   "mimetype": "text/x-python",
   "name": "python",
   "nbconvert_exporter": "python",
   "pygments_lexer": "ipython3",
   "version": "3.13.5"
  }
 },
 "nbformat": 4,
 "nbformat_minor": 5
}
